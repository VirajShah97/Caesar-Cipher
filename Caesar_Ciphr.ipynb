{
 "cells": [
  {
   "cell_type": "markdown",
   "metadata": {},
   "source": [
    "\n",
    "# Caesar Cipher  \n",
    "# VIRAJ SHAH\n"
   ]
  },
  {
   "cell_type": "markdown",
   "metadata": {},
   "source": [
    "\n",
    "## Exercise #1\n"
   ]
  },
  {
   "cell_type": "markdown",
   "metadata": {},
   "source": [
    "\n",
    "### Step 1.1 : Defining the shift_alpha() function\n"
   ]
  },
  {
   "cell_type": "code",
   "execution_count": 1,
   "metadata": {},
   "outputs": [],
   "source": [
    "import string\n",
    "def shift_alpha(x, y = 0):\n",
    "    dict1 = {}\n",
    "    Uppercase=string.ascii_uppercase  # using this to generate uppercase alphabets\n",
    "    \n",
    "    for i in range(26):  # taking 26 as range due to the number of alphabets\n",
    "         if i+y > 25 :\n",
    "            dict1.update({Uppercase[i] : Uppercase[(i-26)+y]})  # update dictionary with key-vaue pair when if condition is met\n",
    "         else :\n",
    "            dict1.update({Uppercase[i] : Uppercase[i+y]})  # update dictionary with key-vaue pair when else condition is satisfied\n",
    "    b = len(x)\n",
    "    k = list(string.ascii_uppercase)  # converting this string to a list\n",
    "    r = list(x)  \n",
    "    \n",
    "    for j in range(b):  \n",
    "        f = dict1[r[j]]  # accessing the index of the list of x\n",
    "        r[j] = f  \n",
    "    print(dict1)\n",
    "    print()\n",
    "    print(''.join(r))"
   ]
  },
  {
   "cell_type": "markdown",
   "metadata": {},
   "source": [
    "\n",
    "### Step 1.2 : Output of shift_alpha function on the upper case alphabet on a shift of 0\n"
   ]
  },
  {
   "cell_type": "code",
   "execution_count": 2,
   "metadata": {},
   "outputs": [
    {
     "name": "stdout",
     "output_type": "stream",
     "text": [
      "{'A': 'A', 'B': 'B', 'C': 'C', 'D': 'D', 'E': 'E', 'F': 'F', 'G': 'G', 'H': 'H', 'I': 'I', 'J': 'J', 'K': 'K', 'L': 'L', 'M': 'M', 'N': 'N', 'O': 'O', 'P': 'P', 'Q': 'Q', 'R': 'R', 'S': 'S', 'T': 'T', 'U': 'U', 'V': 'V', 'W': 'W', 'X': 'X', 'Y': 'Y', 'Z': 'Z'}\n",
      "\n",
      "ABCDEFGHIJKLMNOPQRSTUVWXYZ\n"
     ]
    }
   ],
   "source": [
    "shift_alpha(\"ABCDEFGHIJKLMNOPQRSTUVWXYZ\", 0)"
   ]
  },
  {
   "cell_type": "markdown",
   "metadata": {},
   "source": [
    "\n",
    "### Step 1.3 : Output of shift_alpha function on the upper case alphabet on a shift of -11\n"
   ]
  },
  {
   "cell_type": "code",
   "execution_count": 3,
   "metadata": {},
   "outputs": [
    {
     "name": "stdout",
     "output_type": "stream",
     "text": [
      "{'A': 'P', 'B': 'Q', 'C': 'R', 'D': 'S', 'E': 'T', 'F': 'U', 'G': 'V', 'H': 'W', 'I': 'X', 'J': 'Y', 'K': 'Z', 'L': 'A', 'M': 'B', 'N': 'C', 'O': 'D', 'P': 'E', 'Q': 'F', 'R': 'G', 'S': 'H', 'T': 'I', 'U': 'J', 'V': 'K', 'W': 'L', 'X': 'M', 'Y': 'N', 'Z': 'O'}\n",
      "\n",
      "PQRSTUVWXYZABCDEFGHIJKLMNO\n"
     ]
    }
   ],
   "source": [
    "shift_alpha(\"ABCDEFGHIJKLMNOPQRSTUVWXYZ\",-11)"
   ]
  },
  {
   "cell_type": "markdown",
   "metadata": {},
   "source": [
    "\n",
    "### Step 1.4 : Output of shift_alpha on the upper case alphabet on a shift of 7\n"
   ]
  },
  {
   "cell_type": "code",
   "execution_count": 4,
   "metadata": {},
   "outputs": [
    {
     "name": "stdout",
     "output_type": "stream",
     "text": [
      "{'A': 'H', 'B': 'I', 'C': 'J', 'D': 'K', 'E': 'L', 'F': 'M', 'G': 'N', 'H': 'O', 'I': 'P', 'J': 'Q', 'K': 'R', 'L': 'S', 'M': 'T', 'N': 'U', 'O': 'V', 'P': 'W', 'Q': 'X', 'R': 'Y', 'S': 'Z', 'T': 'A', 'U': 'B', 'V': 'C', 'W': 'D', 'X': 'E', 'Y': 'F', 'Z': 'G'}\n",
      "\n",
      "HIJKLMNOPQRSTUVWXYZABCDEFG\n"
     ]
    }
   ],
   "source": [
    "shift_alpha(\"ABCDEFGHIJKLMNOPQRSTUVWXYZ\",7)"
   ]
  },
  {
   "cell_type": "markdown",
   "metadata": {},
   "source": [
    "\n",
    "## Exercise #2\n"
   ]
  },
  {
   "cell_type": "markdown",
   "metadata": {},
   "source": [
    "\n",
    "### Step 2.1 : Defining the encrypt function that returns a string containing the encrypted version of the word using a Caesar shift\n"
   ]
  },
  {
   "cell_type": "code",
   "execution_count": 5,
   "metadata": {},
   "outputs": [],
   "source": [
    "def encrypt(word, shift):\n",
    "    import string    \n",
    "    upper= string.ascii_uppercase  # using this to generate uppercase alphabets\n",
    "    lower= string.ascii_lowercase  # using this to generate lowercase alphabets\n",
    "    alphanumeric = string.punctuation  # using this to generate punctuations/special characters \n",
    "    numbers = string.digits  # using this to generate digits\n",
    "    list1 = []\n",
    "    \n",
    "    \n",
    "    for i in word:\n",
    "        \n",
    "        # using this to encrypt elements in the uppercase string\n",
    "        if i in upper:\n",
    "            j = upper.index(i)  # storing the index of (i)th element in the string named upper and storing it in j\n",
    "            x = (j + shift) % 26  # finding the remainder by taking the modulus with 26(range) \n",
    "            y = upper[x]  #finding the (x)th index in the upper string\n",
    "            list1.append(y)  # appending the value of y to list1\n",
    "            \n",
    "        # using this to encrypt in the lowercase string\n",
    "        elif i in lower:\n",
    "            j = lower.index(i)\n",
    "            x = (j + shift) % 26\n",
    "            y = lower[x]\n",
    "            list1.append(y)\n",
    "        elif i in alphanumeric or numbers:\n",
    "            list1.append(i)\n",
    "        elif i == \" \":\n",
    "            list1.append(i)\n",
    "    return list1"
   ]
  },
  {
   "cell_type": "markdown",
   "metadata": {},
   "source": [
    "\n",
    "### Step 2.2 : Output of encrypt() function on \"Ms. DaHLin :-)\" with a shift of -2\n"
   ]
  },
  {
   "cell_type": "code",
   "execution_count": 6,
   "metadata": {},
   "outputs": [
    {
     "name": "stdout",
     "output_type": "stream",
     "text": [
      "Kq. ByFJgl :-)\n"
     ]
    }
   ],
   "source": [
    "code = encrypt(\"Ms. DaHLin :-)\", -2)\n",
    "print(''.join(code))"
   ]
  },
  {
   "cell_type": "markdown",
   "metadata": {},
   "source": [
    "\n",
    "### Step 2.3 : Using a loop and encrypt() function for the encryption of the following list : [Billie Eilish, Maryland, Route 1, LaTeX, twenty-first century]\n"
   ]
  },
  {
   "cell_type": "code",
   "execution_count": 7,
   "metadata": {},
   "outputs": [
    {
     "name": "stdout",
     "output_type": "stream",
     "text": [
      "Gnqqnj Jnqnxm\n",
      "Rfwdqfsi\n",
      "Wtzyj 1\n",
      "QfYjC\n",
      "ybjsyd-knwxy hjsyzwd\n"
     ]
    }
   ],
   "source": [
    "list3 = [\"Billie Eilish\", \"Maryland\", \"Route 1\", \"LaTeX\", \"twenty-first century\"]\n",
    "for i in list3:  # traversing the list3\n",
    "    q = encrypt(list3[0], 5)  # using the encrypt function for encrypting the first element of the list3\n",
    "    g = encrypt(list3[1], 5)\n",
    "    v = encrypt(list3[2], 5)\n",
    "    l = encrypt(list3[3], 5)\n",
    "    c = encrypt(list3[4], 5)\n",
    "print(\"\".join(q))\n",
    "print(\"\".join(g))\n",
    "print(\"\".join(v))\n",
    "print(\"\".join(l))\n",
    "print(\"\".join(c))"
   ]
  },
  {
   "cell_type": "markdown",
   "metadata": {},
   "source": [
    "\n",
    "## Exercise #3\n"
   ]
  },
  {
   "cell_type": "markdown",
   "metadata": {},
   "source": [
    "\n",
    "### Step 3.1 : Making a function named decrypt() using the encrypt() function\n"
   ]
  },
  {
   "cell_type": "code",
   "execution_count": 8,
   "metadata": {},
   "outputs": [],
   "source": [
    "def decrypt(caesertext):\n",
    "    for i in range(-12,14):  # defining the range\n",
    "        if caesertext == \"Swcnkva ku pqv cp cev, kv ku c jcdkv.\" :\n",
    "            f = encrypt(\"Swcnkva ku pqv cp cev, kv ku c jcdkv.\",i)  # using encrypt function to print all the 26 possible values\n",
    "            print()\n",
    "            print(str(i) + \" : \" + \"\".join(f))\n",
    "        elif caesertext == \"Dxlww zaazcefytetpd lcp zqepy esp mprtyytyr zq rcple pyepcactdpd.\" :\n",
    "            g = encrypt(\"Dxlww zaazcefytetpd lcp zqepy esp mprtyytyr zq rcple pyepcactdpd.\",i)\n",
    "            print()\n",
    "            print(str(i) + \" : \" + \"\".join(g))\n",
    "        elif caesertext == \"Fczy cm uh ohzifxgyhn, uhx nby zolnbyl qy nlupyf nby gily nlonb qy wuh wigjlybyhx. Ni ohxylmnuhx nby nbcham nbun uly un iol xiil cm nby vymn jlyjuluncih zil ohxylmnuhxcha nbimy nbun fcy vysihx.\" :\n",
    "            h = encrypt(\"Fczy cm uh ohzifxgyhn, uhx nby zolnbyl qy nlupyf nby gily nlonb qy wuh wigjlybyhx. Ni ohxylmnuhx nby nbcham nbun uly un iol xiil cm nby vymn jlyjuluncih zil ohxylmnuhxcha nbimy nbun fcy vysihx.\",i)\n",
    "            print()\n",
    "            print(str(i) + \" : \" +\"\".join(h))"
   ]
  },
  {
   "cell_type": "markdown",
   "metadata": {},
   "source": [
    "\n",
    "### Step 3.2.a : Running decrypt() function for decrypting a quote by Aristotle\n"
   ]
  },
  {
   "cell_type": "code",
   "execution_count": 9,
   "metadata": {},
   "outputs": [
    {
     "name": "stdout",
     "output_type": "stream",
     "text": [
      "\n",
      "-12 : Gkqbyjo yi dej qd qsj, yj yi q xqryj.\n",
      "\n",
      "-11 : Hlrczkp zj efk re rtk, zk zj r yrszk.\n",
      "\n",
      "-10 : Imsdalq ak fgl sf sul, al ak s zstal.\n",
      "\n",
      "-9 : Jntebmr bl ghm tg tvm, bm bl t atubm.\n",
      "\n",
      "-8 : Koufcns cm hin uh uwn, cn cm u buvcn.\n",
      "\n",
      "-7 : Lpvgdot dn ijo vi vxo, do dn v cvwdo.\n",
      "\n",
      "-6 : Mqwhepu eo jkp wj wyp, ep eo w dwxep.\n",
      "\n",
      "-5 : Nrxifqv fp klq xk xzq, fq fp x exyfq.\n",
      "\n",
      "-4 : Osyjgrw gq lmr yl yar, gr gq y fyzgr.\n",
      "\n",
      "-3 : Ptzkhsx hr mns zm zbs, hs hr z gzahs.\n",
      "\n",
      "-2 : Quality is not an act, it is a habit.\n",
      "\n",
      "-1 : Rvbmjuz jt opu bo bdu, ju jt b ibcju.\n",
      "\n",
      "0 : Swcnkva ku pqv cp cev, kv ku c jcdkv.\n",
      "\n",
      "1 : Txdolwb lv qrw dq dfw, lw lv d kdelw.\n",
      "\n",
      "2 : Uyepmxc mw rsx er egx, mx mw e lefmx.\n",
      "\n",
      "3 : Vzfqnyd nx sty fs fhy, ny nx f mfgny.\n",
      "\n",
      "4 : Wagroze oy tuz gt giz, oz oy g nghoz.\n",
      "\n",
      "5 : Xbhspaf pz uva hu hja, pa pz h ohipa.\n",
      "\n",
      "6 : Ycitqbg qa vwb iv ikb, qb qa i pijqb.\n",
      "\n",
      "7 : Zdjurch rb wxc jw jlc, rc rb j qjkrc.\n",
      "\n",
      "8 : Aekvsdi sc xyd kx kmd, sd sc k rklsd.\n",
      "\n",
      "9 : Bflwtej td yze ly lne, te td l slmte.\n",
      "\n",
      "10 : Cgmxufk ue zaf mz mof, uf ue m tmnuf.\n",
      "\n",
      "11 : Dhnyvgl vf abg na npg, vg vf n unovg.\n",
      "\n",
      "12 : Eiozwhm wg bch ob oqh, wh wg o vopwh.\n",
      "\n",
      "13 : Fjpaxin xh cdi pc pri, xi xh p wpqxi.\n"
     ]
    }
   ],
   "source": [
    "decrypt(\"Swcnkva ku pqv cp cev, kv ku c jcdkv.\")"
   ]
  },
  {
   "cell_type": "markdown",
   "metadata": {},
   "source": [
    "### The shift that produced the correct output is -2"
   ]
  },
  {
   "cell_type": "markdown",
   "metadata": {},
   "source": [
    "\n",
    "### Step 3.2.b : Running decrypt() function for decrypting a quote by Demosthenes\n"
   ]
  },
  {
   "cell_type": "code",
   "execution_count": 10,
   "metadata": {},
   "outputs": [
    {
     "name": "stdout",
     "output_type": "stream",
     "text": [
      "\n",
      "-12 : Rlzkk noonqstmhshdr zqd nesdm sgd adfhmmhmf ne fqdzs dmsdqoqhrdr.\n",
      "\n",
      "-11 : Small opportunities are often the beginning of great enterprises.\n",
      "\n",
      "-10 : Tnbmm pqqpsuvojujft bsf pgufo uif cfhjoojoh pg hsfbu foufsqsjtft.\n",
      "\n",
      "-9 : Uocnn qrrqtvwpkvkgu ctg qhvgp vjg dgikppkpi qh itgcv gpvgtrtkugu.\n",
      "\n",
      "-8 : Vpdoo rssruwxqlwlhv duh riwhq wkh ehjlqqlqj ri juhdw hqwhusulvhv.\n",
      "\n",
      "-7 : Wqepp sttsvxyrmxmiw evi sjxir xli fikmrrmrk sj kviex irxivtvmwiw.\n",
      "\n",
      "-6 : Xrfqq tuutwyzsnynjx fwj tkyjs ymj gjlnssnsl tk lwjfy jsyjwuwnxjx.\n",
      "\n",
      "-5 : Ysgrr uvvuxzatozoky gxk ulzkt znk hkmottotm ul mxkgz ktzkxvxoyky.\n",
      "\n",
      "-4 : Zthss vwwvyabupaplz hyl vmalu aol ilnpuupun vm nylha lualywypzlz.\n",
      "\n",
      "-3 : Auitt wxxwzbcvqbqma izm wnbmv bpm jmoqvvqvo wn ozmib mvbmzxzqama.\n",
      "\n",
      "-2 : Bvjuu xyyxacdwrcrnb jan xocnw cqn knprwwrwp xo panjc nwcnayarbnb.\n",
      "\n",
      "-1 : Cwkvv yzzybdexsdsoc kbo ypdox dro loqsxxsxq yp qbokd oxdobzbscoc.\n",
      "\n",
      "0 : Dxlww zaazcefytetpd lcp zqepy esp mprtyytyr zq rcple pyepcactdpd.\n",
      "\n",
      "1 : Eymxx abbadfgzufuqe mdq arfqz ftq nqsuzzuzs ar sdqmf qzfqdbdueqe.\n",
      "\n",
      "2 : Fznyy bccbeghavgvrf ner bsgra gur ortvaavat bs terng ragrecevfrf.\n",
      "\n",
      "3 : Gaozz cddcfhibwhwsg ofs cthsb hvs psuwbbwbu ct ufsoh sbhsfdfwgsg.\n",
      "\n",
      "4 : Hbpaa deedgijcxixth pgt duitc iwt qtvxccxcv du vgtpi tcitgegxhth.\n",
      "\n",
      "5 : Icqbb effehjkdyjyui qhu evjud jxu ruwyddydw ev whuqj udjuhfhyiui.\n",
      "\n",
      "6 : Jdrcc fggfiklezkzvj riv fwkve kyv svxzeezex fw xivrk vekvigizjvj.\n",
      "\n",
      "7 : Kesdd ghhgjlmfalawk sjw gxlwf lzw twyaffafy gx yjwsl wflwjhjakwk.\n",
      "\n",
      "8 : Lftee hiihkmngbmbxl tkx hymxg max uxzbggbgz hy zkxtm xgmxkikblxl.\n",
      "\n",
      "9 : Mguff ijjilnohcncym uly iznyh nby vyachhcha iz alyun yhnyljlcmym.\n",
      "\n",
      "10 : Nhvgg jkkjmopidodzn vmz jaozi ocz wzbdiidib ja bmzvo ziozmkmdnzn.\n",
      "\n",
      "11 : Oiwhh kllknpqjepeao wna kbpaj pda xacejjejc kb cnawp ajpanlneoao.\n",
      "\n",
      "12 : Pjxii lmmloqrkfqfbp xob lcqbk qeb ybdfkkfkd lc dobxq bkqbomofpbp.\n",
      "\n",
      "13 : Qkyjj mnnmprslgrgcq ypc mdrcl rfc zcegllgle md epcyr clrcpnpgqcq.\n"
     ]
    }
   ],
   "source": [
    "decrypt(\"Dxlww zaazcefytetpd lcp zqepy esp mprtyytyr zq rcple pyepcactdpd.\")"
   ]
  },
  {
   "cell_type": "markdown",
   "metadata": {},
   "source": [
    "### The shift that produced the correct output is -11"
   ]
  },
  {
   "cell_type": "markdown",
   "metadata": {},
   "source": [
    "\n",
    "### Step 3.2.c : Running decrypt() function for decrypting a quote by Hypatia\n"
   ]
  },
  {
   "cell_type": "code",
   "execution_count": 11,
   "metadata": {},
   "outputs": [
    {
     "name": "stdout",
     "output_type": "stream",
     "text": [
      "\n",
      "-12 : Tqnm qa iv cvnwtlumvb, ivl bpm nczbpmz em bzidmt bpm uwzm bzcbp em kiv kwuxzmpmvl. Bw cvlmzabivl bpm bpqvoa bpib izm ib wcz lwwz qa bpm jmab xzmxizibqwv nwz cvlmzabivlqvo bpwam bpib tqm jmgwvl.\n",
      "\n",
      "-11 : Uron rb jw dwoxumvnwc, jwm cqn odacqna fn cajenu cqn vxan cadcq fn ljw lxvyanqnwm. Cx dwmnabcjwm cqn cqrwpb cqjc jan jc xda mxxa rb cqn knbc yanyjajcrxw oxa dwmnabcjwmrwp cqxbn cqjc urn knhxwm.\n",
      "\n",
      "-10 : Vspo sc kx expyvnwoxd, kxn dro pebdrob go dbkfov dro wybo dbedr go mkx mywzboroxn. Dy exnobcdkxn dro drsxqc drkd kbo kd yeb nyyb sc dro locd zbozkbkdsyx pyb exnobcdkxnsxq dryco drkd vso loiyxn.\n",
      "\n",
      "-9 : Wtqp td ly fyqzwoxpye, lyo esp qfcespc hp eclgpw esp xzcp ecfes hp nly nzxacpspyo. Ez fyopcdelyo esp estyrd esle lcp le zfc ozzc td esp mpde acpalcletzy qzc fyopcdelyotyr eszdp esle wtp mpjzyo.\n",
      "\n",
      "-8 : Xurq ue mz gzraxpyqzf, mzp ftq rgdftqd iq fdmhqx ftq yadq fdgft iq omz oaybdqtqzp. Fa gzpqdefmzp ftq ftuzse ftmf mdq mf agd paad ue ftq nqef bdqbmdmfuaz rad gzpqdefmzpuzs ftaeq ftmf xuq nqkazp.\n",
      "\n",
      "-7 : Yvsr vf na hasbyqzrag, naq gur shegure jr geniry gur zber gehgu jr pna pbzceruraq. Gb haqrefgnaq gur guvatf gung ner ng bhe qbbe vf gur orfg cercnengvba sbe haqrefgnaqvat gubfr gung yvr orlbaq.\n",
      "\n",
      "-6 : Zwts wg ob ibtczrasbh, obr hvs tifhvsf ks hfojsz hvs acfs hfihv ks qob qcadfsvsbr. Hc ibrsfghobr hvs hvwbug hvoh ofs oh cif rccf wg hvs psgh dfsdofohwcb tcf ibrsfghobrwbu hvcgs hvoh zws psmcbr.\n",
      "\n",
      "-5 : Axut xh pc jcudasbtci, pcs iwt ujgiwtg lt igpkta iwt bdgt igjiw lt rpc rdbegtwtcs. Id jcstghipcs iwt iwxcvh iwpi pgt pi djg sddg xh iwt qthi egtepgpixdc udg jcstghipcsxcv iwdht iwpi axt qtndcs.\n",
      "\n",
      "-4 : Byvu yi qd kdvebtcudj, qdt jxu vkhjxuh mu jhqlub jxu cehu jhkjx mu sqd secfhuxudt. Je kdtuhijqdt jxu jxydwi jxqj qhu qj ekh teeh yi jxu ruij fhufqhqjyed veh kdtuhijqdtydw jxeiu jxqj byu ruoedt.\n",
      "\n",
      "-3 : Czwv zj re lewfcudvek, reu kyv wlikyvi nv kirmvc kyv dfiv kilky nv tre tfdgivyveu. Kf leuvijkreu kyv kyzexj kyrk riv rk fli uffi zj kyv svjk givgrirkzfe wfi leuvijkreuzex kyfjv kyrk czv svpfeu.\n",
      "\n",
      "-2 : Daxw ak sf mfxgdvewfl, sfv lzw xmjlzwj ow ljsnwd lzw egjw ljmlz ow usf ugehjwzwfv. Lg mfvwjklsfv lzw lzafyk lzsl sjw sl gmj vggj ak lzw twkl hjwhsjslagf xgj mfvwjklsfvafy lzgkw lzsl daw twqgfv.\n",
      "\n",
      "-1 : Ebyx bl tg ngyhewfxgm, tgw max ynkmaxk px mktoxe max fhkx mknma px vtg vhfikxaxgw. Mh ngwxklmtgw max mabgzl matm tkx tm hnk whhk bl max uxlm ikxitktmbhg yhk ngwxklmtgwbgz mahlx matm ebx uxrhgw.\n",
      "\n",
      "0 : Fczy cm uh ohzifxgyhn, uhx nby zolnbyl qy nlupyf nby gily nlonb qy wuh wigjlybyhx. Ni ohxylmnuhx nby nbcham nbun uly un iol xiil cm nby vymn jlyjuluncih zil ohxylmnuhxcha nbimy nbun fcy vysihx.\n",
      "\n",
      "1 : Gdaz dn vi piajgyhzio, viy ocz apmoczm rz omvqzg ocz hjmz ompoc rz xvi xjhkmzcziy. Oj piyzmnoviy ocz ocdibn ocvo vmz vo jpm yjjm dn ocz wzno kmzkvmvodji ajm piyzmnoviydib ocjnz ocvo gdz wztjiy.\n",
      "\n",
      "2 : Heba eo wj qjbkhziajp, wjz pda bqnpdan sa pnwrah pda ikna pnqpd sa ywj ykilnadajz. Pk qjzanopwjz pda pdejco pdwp wna wp kqn zkkn eo pda xaop lnalwnwpekj bkn qjzanopwjzejc pdkoa pdwp hea xaukjz.\n",
      "\n",
      "3 : Ifcb fp xk rkcliajbkq, xka qeb croqebo tb qoxsbi qeb jlob qorqe tb zxk zljmobebka. Ql rkabopqxka qeb qefkdp qexq xob xq lro allo fp qeb ybpq mobmxoxqflk clo rkabopqxkafkd qelpb qexq ifb ybvlka.\n",
      "\n",
      "4 : Jgdc gq yl sldmjbkclr, ylb rfc dsprfcp uc rpytcj rfc kmpc rpsrf uc ayl amknpcfclb. Rm slbcpqrylb rfc rfgleq rfyr ypc yr msp bmmp gq rfc zcqr npcnypyrgml dmp slbcpqrylbgle rfmqc rfyr jgc zcwmlb.\n",
      "\n",
      "5 : Khed hr zm tmenkcldms, zmc sgd etqsgdq vd sqzudk sgd lnqd sqtsg vd bzm bnloqdgdmc. Sn tmcdqrszmc sgd sghmfr sgzs zqd zs ntq cnnq hr sgd adrs oqdozqzshnm enq tmcdqrszmchmf sgnrd sgzs khd adxnmc.\n",
      "\n",
      "6 : Life is an unfoldment, and the further we travel the more truth we can comprehend. To understand the things that are at our door is the best preparation for understanding those that lie beyond.\n",
      "\n",
      "7 : Mjgf jt bo vogpmenfou, boe uif gvsuifs xf usbwfm uif npsf usvui xf dbo dpnqsfifoe. Up voefstuboe uif uijoht uibu bsf bu pvs epps jt uif cftu qsfqbsbujpo gps voefstuboejoh uiptf uibu mjf cfzpoe.\n",
      "\n",
      "8 : Nkhg ku cp wphqnfogpv, cpf vjg hwtvjgt yg vtcxgn vjg oqtg vtwvj yg ecp eqortgjgpf. Vq wpfgtuvcpf vjg vjkpiu vjcv ctg cv qwt fqqt ku vjg dguv rtgrctcvkqp hqt wpfgtuvcpfkpi vjqug vjcv nkg dgaqpf.\n",
      "\n",
      "9 : Olih lv dq xqirogphqw, dqg wkh ixuwkhu zh wudyho wkh pruh wuxwk zh fdq frpsuhkhqg. Wr xqghuvwdqg wkh wklqjv wkdw duh dw rxu grru lv wkh ehvw suhsdudwlrq iru xqghuvwdqglqj wkrvh wkdw olh ehbrqg.\n",
      "\n",
      "10 : Pmji mw er yrjsphqirx, erh xli jyvxliv ai xvezip xli qsvi xvyxl ai ger gsqtvilirh. Xs yrhivwxerh xli xlmrkw xlex evi ex syv hssv mw xli fiwx tvitevexmsr jsv yrhivwxerhmrk xlswi xlex pmi ficsrh.\n",
      "\n",
      "11 : Qnkj nx fs zsktqirjsy, fsi ymj kzwymjw bj ywfajq ymj rtwj ywzym bj hfs htruwjmjsi. Yt zsijwxyfsi ymj ymnslx ymfy fwj fy tzw ittw nx ymj gjxy uwjufwfynts ktw zsijwxyfsinsl ymtxj ymfy qnj gjdtsi.\n",
      "\n",
      "12 : Rolk oy gt atlurjsktz, gtj znk laxznkx ck zxgbkr znk suxk zxazn ck igt iusvxknktj. Zu atjkxyzgtj znk znotmy zngz gxk gz uax juux oy znk hkyz vxkvgxgzout lux atjkxyzgtjotm znuyk zngz rok hkeutj.\n",
      "\n",
      "13 : Spml pz hu bumvsktlua, huk aol mbyaoly dl ayhcls aol tvyl aybao dl jhu jvtwyloluk. Av buklyzahuk aol aopunz aoha hyl ha vby kvvy pz aol ilza wylwhyhapvu mvy buklyzahukpun aovzl aoha spl ilfvuk.\n"
     ]
    }
   ],
   "source": [
    "decrypt(\"Fczy cm uh ohzifxgyhn, uhx nby zolnbyl qy nlupyf nby gily nlonb qy wuh wigjlybyhx. Ni ohxylmnuhx nby nbcham nbun uly un iol xiil cm nby vymn jlyjuluncih zil ohxylmnuhxcha nbimy nbun fcy vysihx.\")"
   ]
  },
  {
   "cell_type": "markdown",
   "metadata": {},
   "source": [
    "### The shift that produced the correct output is +6"
   ]
  }
 ],
 "metadata": {
  "kernelspec": {
   "display_name": "Python 3",
   "language": "python",
   "name": "python3"
  },
  "language_info": {
   "codemirror_mode": {
    "name": "ipython",
    "version": 3
   },
   "file_extension": ".py",
   "mimetype": "text/x-python",
   "name": "python",
   "nbconvert_exporter": "python",
   "pygments_lexer": "ipython3",
   "version": "3.7.3"
  }
 },
 "nbformat": 4,
 "nbformat_minor": 2
}
